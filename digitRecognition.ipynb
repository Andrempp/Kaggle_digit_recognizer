{
  "nbformat": 4,
  "nbformat_minor": 0,
  "metadata": {
    "colab": {
      "name": "digitRecognition.ipynb",
      "version": "0.3.2",
      "provenance": [],
      "collapsed_sections": []
    },
    "kernelspec": {
      "name": "python3",
      "display_name": "Python 3"
    },
    "accelerator": "GPU"
  },
  "cells": [
    {
      "metadata": {
        "id": "vlrJpYIr1KM6",
        "colab_type": "text"
      },
      "cell_type": "markdown",
      "source": [
        "# Participation on the Digit Recognizer competition using Pytorch - accuracy of 0.98271\n",
        "\n",
        "\n",
        "---\n",
        "\n",
        "Notebook for my first participation on a Kaggle competition.\n",
        "Used the kernels [Introduction to CNN Keras - Acc 0.997 (top 8%)](https://www.kaggle.com/yassineghouzam/introduction-to-cnn-keras-0-997-top-6) and [PyTorch Dataset and DataLoader](https://www.kaggle.com/pinocookie/pytorch-dataset-and-dataloader) as inspiration."
      ]
    },
    {
      "metadata": {
        "id": "8ZklJBi-2jbz",
        "colab_type": "text"
      },
      "cell_type": "markdown",
      "source": [
        "## Import and installation of the necessary resources to download the data and save trained models on Google Drive."
      ]
    },
    {
      "metadata": {
        "id": "8cZyB8iIcwcL",
        "colab_type": "code",
        "outputId": "c26ae9cf-0602-48b4-fa09-c1328b54efff",
        "colab": {
          "base_uri": "https://localhost:8080/",
          "height": 34
        }
      },
      "cell_type": "code",
      "source": [
        "from google.colab import drive\n",
        "drive.mount('/content/drive')\n",
        "\n",
        "drive_path = '/content/drive/My Drive/Colab Notebooks'\n",
        "drive_full_path = drive_path + '/K_Digit_Recognizer'"
      ],
      "execution_count": 0,
      "outputs": [
        {
          "output_type": "stream",
          "text": [
            "Drive already mounted at /content/drive; to attempt to forcibly remount, call drive.mount(\"/content/drive\", force_remount=True).\n"
          ],
          "name": "stdout"
        }
      ]
    },
    {
      "metadata": {
        "id": "IqY3b4naGWRQ",
        "colab_type": "code",
        "outputId": "5fd34092-c843-461c-a545-776606ad675a",
        "colab": {
          "base_uri": "https://localhost:8080/",
          "height": 34
        }
      },
      "cell_type": "code",
      "source": [
        "drive_full_path"
      ],
      "execution_count": 0,
      "outputs": [
        {
          "output_type": "execute_result",
          "data": {
            "text/plain": [
              "'/content/drive/My Drive/Colab Notebooks/K_Digit_Recognizer'"
            ]
          },
          "metadata": {
            "tags": []
          },
          "execution_count": 2
        }
      ]
    },
    {
      "metadata": {
        "id": "8Cd370gE-liV",
        "colab_type": "code",
        "outputId": "083b7f68-fd1a-43e5-abe4-90333f693ac2",
        "colab": {
          "base_uri": "https://localhost:8080/",
          "height": 204
        }
      },
      "cell_type": "code",
      "source": [
        "!pip install kaggle"
      ],
      "execution_count": 0,
      "outputs": [
        {
          "output_type": "stream",
          "text": [
            "Requirement already satisfied: kaggle in /usr/local/lib/python3.6/dist-packages (1.5.3)\n",
            "Requirement already satisfied: urllib3<1.25,>=1.21.1 in /usr/local/lib/python3.6/dist-packages (from kaggle) (1.22)\n",
            "Requirement already satisfied: six>=1.10 in /usr/local/lib/python3.6/dist-packages (from kaggle) (1.11.0)\n",
            "Requirement already satisfied: certifi in /usr/local/lib/python3.6/dist-packages (from kaggle) (2019.3.9)\n",
            "Requirement already satisfied: python-dateutil in /usr/local/lib/python3.6/dist-packages (from kaggle) (2.5.3)\n",
            "Requirement already satisfied: requests in /usr/local/lib/python3.6/dist-packages (from kaggle) (2.18.4)\n",
            "Requirement already satisfied: tqdm in /usr/local/lib/python3.6/dist-packages (from kaggle) (4.28.1)\n",
            "Requirement already satisfied: python-slugify in /usr/local/lib/python3.6/dist-packages (from kaggle) (3.0.1)\n",
            "Requirement already satisfied: idna<2.7,>=2.5 in /usr/local/lib/python3.6/dist-packages (from requests->kaggle) (2.6)\n",
            "Requirement already satisfied: chardet<3.1.0,>=3.0.2 in /usr/local/lib/python3.6/dist-packages (from requests->kaggle) (3.0.4)\n",
            "Requirement already satisfied: text-unidecode==1.2 in /usr/local/lib/python3.6/dist-packages (from python-slugify->kaggle) (1.2)\n"
          ],
          "name": "stdout"
        }
      ]
    },
    {
      "metadata": {
        "id": "GKJ7foSS_FUU",
        "colab_type": "code",
        "outputId": "db581bbf-05b4-4942-f427-c1d8e319eeb5",
        "colab": {
          "resources": {
            "http://localhost:8080/nbextensions/google.colab/files.js": {
              "data": "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",
              "ok": true,
              "headers": [
                [
                  "content-type",
                  "application/javascript"
                ]
              ],
              "status": 200,
              "status_text": ""
            }
          },
          "base_uri": "https://localhost:8080/",
          "height": 74
        }
      },
      "cell_type": "code",
      "source": [
        "from google.colab import files\n",
        "\n",
        "uploaded = files.upload()\n",
        "!mkdir -p ~/.kaggle/ && mv kaggle.json ~/.kaggle/ && chmod 600 ~/.kaggle/kaggle.json"
      ],
      "execution_count": 0,
      "outputs": [
        {
          "output_type": "display_data",
          "data": {
            "text/html": [
              "\n",
              "     <input type=\"file\" id=\"files-678adcae-dec7-437e-ba91-dd15acdff891\" name=\"files[]\" multiple disabled />\n",
              "     <output id=\"result-678adcae-dec7-437e-ba91-dd15acdff891\">\n",
              "      Upload widget is only available when the cell has been executed in the\n",
              "      current browser session. Please rerun this cell to enable.\n",
              "      </output>\n",
              "      <script src=\"/nbextensions/google.colab/files.js\"></script> "
            ],
            "text/plain": [
              "<IPython.core.display.HTML object>"
            ]
          },
          "metadata": {
            "tags": []
          }
        },
        {
          "output_type": "stream",
          "text": [
            "Saving kaggle.json to kaggle.json\n"
          ],
          "name": "stdout"
        }
      ]
    },
    {
      "metadata": {
        "id": "82agnNsE3AQ_",
        "colab_type": "text"
      },
      "cell_type": "markdown",
      "source": [
        "Import the authentication file from Kaggle."
      ]
    },
    {
      "metadata": {
        "id": "r6Ic8kH9BXip",
        "colab_type": "code",
        "outputId": "ba8cc709-2907-489a-a4c8-3e7a620b31b5",
        "colab": {
          "base_uri": "https://localhost:8080/",
          "height": 391
        }
      },
      "cell_type": "code",
      "source": [
        "!kaggle competitions list"
      ],
      "execution_count": 0,
      "outputs": [
        {
          "output_type": "stream",
          "text": [
            "ref                                                deadline             category            reward  teamCount  userHasEntered  \n",
            "-------------------------------------------------  -------------------  ---------------  ---------  ---------  --------------  \n",
            "digit-recognizer                                   2030-01-01 00:00:00  Getting Started  Knowledge       2627            True  \n",
            "titanic                                            2030-01-01 00:00:00  Getting Started  Knowledge      10762            True  \n",
            "house-prices-advanced-regression-techniques        2030-01-01 00:00:00  Getting Started  Knowledge       4442            True  \n",
            "imagenet-object-localization-challenge             2029-12-31 07:00:00  Research         Knowledge         34           False  \n",
            "competitive-data-science-predict-future-sales      2019-12-31 23:59:00  Playground           Kudos       2649           False  \n",
            "two-sigma-financial-news                           2019-07-15 23:59:00  Featured          $100,000       2927           False  \n",
            "aerial-cactus-identification                       2019-07-08 23:59:00  Playground       Knowledge        237           False  \n",
            "jigsaw-unintended-bias-in-toxicity-classification  2019-06-26 23:59:00  Featured           $65,000        247           False  \n",
            "inaturalist-2019-fgvc6                             2019-06-10 23:59:00  Research             Kudos         14           False  \n",
            "iwildcam-2019-fgvc6                                2019-06-07 23:59:00  Playground           Kudos         42           False  \n",
            "imet-2019-fgvc6                                    2019-06-04 23:59:00  Research             Kudos        115           False  \n",
            "LANL-Earthquake-Prediction                         2019-06-03 23:59:00  Research           $50,000       2243           False  \n",
            "tmdb-box-office-prediction                         2019-05-30 23:59:00  Playground       Knowledge        577           False  \n",
            "dont-overfit-ii                                    2019-05-07 23:59:00  Playground            Swag       1420           False  \n",
            "ciphertext-challenge-ii                            2019-04-25 23:59:00  Playground            Swag         24           False  \n",
            "data-science-for-good-careervillage                2019-04-23 23:59:00  Analytics          $15,000          0           False  \n",
            "gendered-pronoun-resolution                        2019-04-22 23:59:00  Research           $25,000        603           False  \n",
            "petfinder-adoption-prediction                      2019-04-18 23:59:00  Featured           $25,000       2010           False  \n",
            "career-con-2019                                    2019-04-11 23:59:00  Recruitment           Swag       1204           False  \n",
            "santander-customer-transaction-prediction          2019-04-10 23:59:00  Featured           $65,000       8482           False  \n"
          ],
          "name": "stdout"
        }
      ]
    },
    {
      "metadata": {
        "id": "foEwJxK_BgMp",
        "colab_type": "code",
        "outputId": "bcba5ba9-f24a-4651-99b9-bc2a223aeb4a",
        "colab": {
          "base_uri": "https://localhost:8080/",
          "height": 68
        }
      },
      "cell_type": "code",
      "source": [
        "!kaggle competitions download -c digit-recognizer"
      ],
      "execution_count": 0,
      "outputs": [
        {
          "output_type": "stream",
          "text": [
            "train.csv: Skipping, found more recently modified local copy (use --force to force download)\n",
            "test.csv: Skipping, found more recently modified local copy (use --force to force download)\n",
            "sample_submission.csv: Skipping, found more recently modified local copy (use --force to force download)\n"
          ],
          "name": "stdout"
        }
      ]
    },
    {
      "metadata": {
        "id": "jLeQXcST3NIJ",
        "colab_type": "text"
      },
      "cell_type": "markdown",
      "source": [
        "Access all the currently active competitions and download the data from the Digit Recognizer one."
      ]
    },
    {
      "metadata": {
        "id": "6Kk9NmyvBwNP",
        "colab_type": "code",
        "outputId": "e3d1d024-ab88-4f0f-a502-ebe1f0d907d1",
        "colab": {
          "base_uri": "https://localhost:8080/",
          "height": 34
        }
      },
      "cell_type": "code",
      "source": [
        "!ls"
      ],
      "execution_count": 0,
      "outputs": [
        {
          "output_type": "stream",
          "text": [
            "drive  sample_data  sample_submission.csv  test.csv  train.csv\n"
          ],
          "name": "stdout"
        }
      ]
    },
    {
      "metadata": {
        "id": "oDAXv6DCCmQb",
        "colab_type": "code",
        "colab": {}
      },
      "cell_type": "code",
      "source": [
        "#Imports for constructing the Neural Network\n",
        "import torch\n",
        "import torch.nn as nn\n",
        "import torch.optim as optim\n",
        "import torch.nn.functional as F\n",
        "import torchvision\n",
        "\n",
        "#Imports for handling data\n",
        "import numpy as np\n",
        "import pandas as pd\n",
        "import torchvision.transforms as transforms\n",
        "from torch.utils.data import DataLoader, Dataset\n",
        "from PIL import Image\n",
        "\n",
        "#Imports for visualization\n",
        "import matplotlib.pyplot as plt\n",
        "import matplotlib.pyplot as plt\n",
        "import matplotlib.image as mpimg\n",
        "import seaborn as sns\n",
        "\n",
        "#import torchvision.models as models\n",
        "#from torch.utils.data.sampler import SubsetRandomSampler\n",
        "#from sklearn.model_selection import train_test_split\n",
        "\n"
      ],
      "execution_count": 0,
      "outputs": []
    },
    {
      "metadata": {
        "id": "uvgJiZURCnjM",
        "colab_type": "code",
        "outputId": "ba6edb7e-ab1b-42c4-a2fa-89981f519763",
        "colab": {
          "base_uri": "https://localhost:8080/",
          "height": 34
        }
      },
      "cell_type": "code",
      "source": [
        "train_on_gpu = torch.cuda.is_available()\n",
        "train_on_gpu"
      ],
      "execution_count": 0,
      "outputs": [
        {
          "output_type": "execute_result",
          "data": {
            "text/plain": [
              "True"
            ]
          },
          "metadata": {
            "tags": []
          },
          "execution_count": 9
        }
      ]
    },
    {
      "metadata": {
        "id": "iGEey7wK5Q4S",
        "colab_type": "text"
      },
      "cell_type": "markdown",
      "source": [
        "Check if we're running on a GPU"
      ]
    },
    {
      "metadata": {
        "id": "w3n3oRkXOsHU",
        "colab_type": "code",
        "outputId": "1db42f9b-ed3a-4638-d33d-55d2a1ed5c76",
        "colab": {
          "base_uri": "https://localhost:8080/",
          "height": 54
        }
      },
      "cell_type": "code",
      "source": [
        "from PIL import Image\n",
        "\n",
        "class CSVDataset(Dataset):\n",
        "    \n",
        "    def __init__(self, data, height, width, channels, transform=None, test=False):\n",
        "        self.data = data\n",
        "        self.transform = transform\n",
        "        self.height = height\n",
        "        self.width = width\n",
        "        self.channels = channels\n",
        "        self.test = test\n",
        "        \n",
        "    def __len__(self):\n",
        "        return len(self.data)\n",
        "    \n",
        "    def __getitem__(self, index):\n",
        "        # load image as ndarray type (Height * Width * Channels)\n",
        "        # be carefull for converting dtype to np.uint8 [Unsigned integer (0 to 255)]\n",
        "        # in this example, we use ToTensor(), so we define the numpy array like (H, W, C)\n",
        "        \n",
        "        if self.test:\n",
        "          image_numpy = self.data.iloc[index].values.astype(np.uint8).reshape(\n",
        "              (self.height, self.width))\n",
        "          transform = transforms.ToTensor()\n",
        "          image =transform(image_numpy)   #transform.toTensor already /255\n",
        "          return image\n",
        "        \n",
        "        else:\n",
        "          image_numpy = self.data.iloc[index, 1:].values.astype(np.uint8).reshape(\n",
        "              (self.height, self.width))\n",
        "          image = Image.fromarray(image_numpy.astype('uint8'))\n",
        "\n",
        "          label = int(self.data.iloc[index, 0])\n",
        "\n",
        "          if self.transform is not None:\n",
        "              image = self.transform(image)   #transform.toTensor already /255\n",
        "\n",
        "          return image, label"
      ],
      "execution_count": 0,
      "outputs": [
        {
          "output_type": "execute_result",
          "data": {
            "text/plain": [
              "\"class CSVDataset(Dataset):\\n    \\n    def __init__(self, data, height, width, channels,transform=None):\\n        self.data = data\\n        self.transform = transform\\n        self.height = height\\n        self.width = width\\n        self.channels = channels\\n        \\n    def __len__(self):\\n        return len(self.data)\\n    \\n    def __getitem__(self, index):\\n        # load image as ndarray type (Height * Width * Channels)\\n        # be carefull for converting dtype to np.uint8 [Unsigned integer (0 to 255)]\\n        # in this example, we use ToTensor(), so we define the numpy array like (H, W, C)\\n        image_numpy = self.data.iloc[index, 1:].values.astype(np.uint8).reshape(\\n            (self.height, self.width))\\n        image = Image.fromarray(image_numpy.astype('uint8'))\\n\\n        label = int(self.data.iloc[index, 0])\\n        \\n        if self.transform is not None:\\n            image = self.transform(image)   #transform.toTensor already /255\\n            \\n        return image, label\""
            ]
          },
          "metadata": {
            "tags": []
          },
          "execution_count": 10
        }
      ]
    },
    {
      "metadata": {
        "id": "G-1Rr1ny5YxR",
        "colab_type": "text"
      },
      "cell_type": "markdown",
      "source": [
        "Custom Dataset to handle images from a CSV file."
      ]
    },
    {
      "metadata": {
        "id": "cvefKWG_sj_d",
        "colab_type": "code",
        "colab": {}
      },
      "cell_type": "code",
      "source": [
        "train_data = pd.read_csv('train.csv',dtype = np.float32)\n",
        "test_data = pd.read_csv('test.csv',dtype = np.float32)"
      ],
      "execution_count": 0,
      "outputs": []
    },
    {
      "metadata": {
        "id": "tL4H_Kvq6COf",
        "colab_type": "text"
      },
      "cell_type": "markdown",
      "source": [
        "Download the train and test data into a pandas dataframe."
      ]
    },
    {
      "metadata": {
        "id": "cngyPntR351Z",
        "colab_type": "code",
        "colab": {}
      },
      "cell_type": "code",
      "source": [
        "#ratio of data used for trainning, the rest will be used for validation\n",
        "train_ratio=0.85\n",
        "\n",
        "div = int(train_data.shape[0] * train_ratio)\n",
        "\n",
        "#trainning data\n",
        "train = train_data.iloc[:div]\n",
        "#validation data\n",
        "val = train_data.iloc[div:]"
      ],
      "execution_count": 0,
      "outputs": []
    },
    {
      "metadata": {
        "id": "Z9xJ6PegiAXH",
        "colab_type": "text"
      },
      "cell_type": "markdown",
      "source": [
        "Divide the data for trainning and validation."
      ]
    },
    {
      "metadata": {
        "id": "QprqK4PfPaIG",
        "colab_type": "code",
        "colab": {}
      },
      "cell_type": "code",
      "source": [
        "data_transforms = {'train':transforms.Compose([\n",
        "                      transforms.RandomRotation(10),  #rotate the image by a random value between -10 and 10\n",
        "                      transforms.ToTensor()]) ,       #transforms the data in a torch.FloatTensor with values between 0.0 and 1.0\n",
        "                   'val':transforms.Compose([\n",
        "                          transforms.ToTensor()])\n",
        "                  }\n"
      ],
      "execution_count": 0,
      "outputs": []
    },
    {
      "metadata": {
        "id": "Sqs6WCGr5jAS",
        "colab_type": "text"
      },
      "cell_type": "markdown",
      "source": [
        "Define the transforms to apply to the trainning and validation sets."
      ]
    },
    {
      "metadata": {
        "id": "UBq6J4PfC5ry",
        "colab_type": "code",
        "colab": {}
      },
      "cell_type": "code",
      "source": [
        "#Convert the data to datasets of 28x28x1 tensors with the corresponding transforms applied\n",
        "train_dataset = CSVDataset(train, 28, 28, 1, transform=data_transforms['train'])\n",
        "val_dataset = CSVDataset(val, 28, 28, 1, transform=data_transforms['val'])"
      ],
      "execution_count": 0,
      "outputs": []
    },
    {
      "metadata": {
        "id": "2t0V73gWjOuV",
        "colab_type": "text"
      },
      "cell_type": "markdown",
      "source": [
        "Put the data in a dataset."
      ]
    },
    {
      "metadata": {
        "id": "vdD1MKc_QkMY",
        "colab_type": "code",
        "colab": {}
      },
      "cell_type": "code",
      "source": [
        "batch_size = 128\n",
        "\n",
        "train_loader = torch.utils.data.DataLoader(train_dataset, batch_size = batch_size, shuffle = False)\n",
        "val_loader = torch.utils.data.DataLoader(val_dataset, batch_size = batch_size, shuffle = False)"
      ],
      "execution_count": 0,
      "outputs": []
    },
    {
      "metadata": {
        "id": "sXCcTucijTQO",
        "colab_type": "text"
      },
      "cell_type": "markdown",
      "source": [
        "Define the batch size and create data loaders used to iterate the datasets."
      ]
    },
    {
      "metadata": {
        "id": "AhpXwhH9t0y3",
        "colab_type": "code",
        "outputId": "845f379a-92ab-4a58-cd68-7c8ca83e6e48",
        "colab": {
          "base_uri": "https://localhost:8080/",
          "height": 381
        }
      },
      "cell_type": "code",
      "source": [
        "g = sns.countplot(train_data.label.values)"
      ],
      "execution_count": 0,
      "outputs": [
        {
          "output_type": "stream",
          "text": [
            "/usr/local/lib/python3.6/dist-packages/seaborn/categorical.py:1428: FutureWarning: remove_na is deprecated and is a private function. Do not use.\n",
            "  stat_data = remove_na(group_data)\n"
          ],
          "name": "stderr"
        },
        {
          "output_type": "display_data",
          "data": {
            "image/png": "[encoded data removed]",
            "text/plain": [
              "<Figure size 576x396 with 1 Axes>"
            ]
          },
          "metadata": {
            "tags": []
          }
        }
      ]
    },
    {
      "metadata": {
        "id": "Un3UFWJukIUy",
        "colab_type": "text"
      },
      "cell_type": "markdown",
      "source": [
        "Overview of the total number of images in each class."
      ]
    },
    {
      "metadata": {
        "id": "kzjCwMd8uux5",
        "colab_type": "code",
        "outputId": "268b444d-a6a9-4e65-b1ec-e94351409ee0",
        "colab": {
          "base_uri": "https://localhost:8080/",
          "height": 364
        }
      },
      "cell_type": "code",
      "source": [
        "plt.imshow(train_dataset[25][0].view(28,28))"
      ],
      "execution_count": 0,
      "outputs": [
        {
          "output_type": "execute_result",
          "data": {
            "text/plain": [
              "<matplotlib.image.AxesImage at 0x7efcdaaee278>"
            ]
          },
          "metadata": {
            "tags": []
          },
          "execution_count": 17
        },
        {
          "output_type": "display_data",
          "data": {
            "image/png": "[encoded data removed]",
            "text/plain": [
              "<Figure size 576x396 with 1 Axes>"
            ]
          },
          "metadata": {
            "tags": []
          }
        }
      ]
    },
    {
      "metadata": {
        "id": "zFE_gHlDkbIb",
        "colab_type": "text"
      },
      "cell_type": "markdown",
      "source": [
        "Example of one of the images used as input."
      ]
    },
    {
      "metadata": {
        "id": "218bPO-7IjlO",
        "colab_type": "code",
        "colab": {}
      },
      "cell_type": "code",
      "source": [
        "class MNISTNetwork(nn.Module):\n",
        "  def __init__(self):\n",
        "    super().__init__()\n",
        "    self.layer1 = nn.Sequential(\n",
        "      # 1-> number of channels in the input (1 because it's a grayscale image)\n",
        "      # 32 -> number of kernels used, and the number of channels in the input\n",
        "      # 5 -> heigth and width of the kernels\n",
        "      # padding -> adds a padding of 2 in order to not reduce the size of the image\n",
        "      torch.nn.Conv2d(1, 32, 5, padding=2),    #convolutional layer\n",
        "      nn.ReLU(),                               #activation layer, uses Rectified Linear Unit\n",
        "      torch.nn.Conv2d(32, 32, 5, padding=2),\n",
        "      nn.ReLU(),\n",
        "      torch.nn.MaxPool2d(kernel_size=2)        #Pooling layer, chooses max value of a 2x2 square\n",
        "    ) \n",
        "    #data comes out of this layer in the shape 32x14x14\n",
        "    self.layer2 = nn.Sequential(\n",
        "      torch.nn.Conv2d(32, 64, 3, padding=1),\n",
        "      nn.ReLU(),\n",
        "      torch.nn.Conv2d(64, 64, 3, padding=1),\n",
        "      nn.ReLU(),\n",
        "      torch.nn.MaxPool2d(kernel_size=2, stride=2)\n",
        "    ) #64, 7, 7\n",
        "    self.fc1 = torch.nn.Linear(7*7*64, 256)\n",
        "    self.fc2 = torch.nn.Linear(256, 10)\n",
        "   \n",
        "  def forward(self, x):\n",
        "    x = self.layer1(x)\n",
        "    x = F.dropout(x, p=0.25)                  #applies a dropout layer, with 0.25 probability of ignoring each element of the input tensor.\n",
        "    x = self.layer2(x)\n",
        "    x = F.dropout(x, p=0.25)\n",
        "    x = x.reshape(x.size(0), -1)\n",
        "    x = F.relu(self.fc1(x))\n",
        "    x = F.dropout(x, p=0.5)\n",
        "    out = F.softmax(self.fc2(x))\n",
        "    return out\n",
        "    "
      ],
      "execution_count": 0,
      "outputs": []
    },
    {
      "metadata": {
        "id": "HYhryZC3k7RD",
        "colab_type": "code",
        "colab": {}
      },
      "cell_type": "code",
      "source": [
        "def save_model(model, epochs=0, val_loss=-1):\n",
        "  '''function to save the state of the model, the state of the optimizer, \n",
        "  number of current epochs and validation loss'''\n",
        "  \n",
        "  checkpoint = {'model_state_dict': model.state_dict(), 'optimizer_state_dict': optimizer.state_dict(), \n",
        "              'epochs': epochs, 'val_loss': val_loss}\n",
        "  torch.save(checkpoint, drive_full_path + '/checkpoint.pt')\n",
        "  print(\"Model Saved\")"
      ],
      "execution_count": 0,
      "outputs": []
    },
    {
      "metadata": {
        "id": "RF8vYx-ourM-",
        "colab_type": "code",
        "colab": {}
      },
      "cell_type": "code",
      "source": [
        "def load_model(checkpoint):\n",
        "    '''function to load a model and a optimizer with the respective state dicts,\n",
        "    returning them and the lowest validation loss associated with them'''\n",
        "    model = MNISTNetwork()\n",
        "    optimizer = optim.Adam(model.parameters(), lr=0.001)\n",
        "    \n",
        "    model.load_state_dict(checkpoint['model_state_dict'])\n",
        "    val_loss = checkpoint['val_loss']\n",
        "    optimizer.load_state_dict(checkpoint['optimizer_state_dict'])\n",
        "    \n",
        "    return model, optimizer, val_loss"
      ],
      "execution_count": 0,
      "outputs": []
    },
    {
      "metadata": {
        "id": "Ey9ML1hR3Hzq",
        "colab_type": "code",
        "colab": {}
      },
      "cell_type": "code",
      "source": [
        "\n",
        "try:                   #if there is a file with a checkpoint of trainning load it and use its data\n",
        "  \n",
        "    #load te checkpoint from the file located in Google Drive\n",
        "    checkpoint = torch.load(drive_full_path + '/checkpoint.pt')\n",
        "    \n",
        "    model, optimizer, val_loss = load_model(checkpoint)\n",
        "    \n",
        "    # track change in validation loss\n",
        "    valid_loss_min = val_loss\n",
        "    \n",
        "    \n",
        "except FileNotFoundError:   #if there is no file with a checkpoint of trainning, start fresh\n",
        "\n",
        "    #instatiate the model\n",
        "    model = MNISTNetwork()\n",
        "\n",
        "    #define the optimizer as Adam, give him the model's parameters and define the learning rate as 0.001\n",
        "    optimizer = optim.Adam(model.parameters(), lr=0.001)\n",
        "\n",
        "    # track change in validation loss\n",
        "    valid_loss_min = np.Inf\n",
        "    \n",
        "\n",
        "#define the loss as Cross Entropy Loss\n",
        "criterion = nn.CrossEntropyLoss()\n",
        "\n",
        "#schedule the lr to decrease by half after every 3 epochs without improvement\n",
        "scheduler = optim.lr_scheduler.ReduceLROnPlateau(optimizer, factor=0.5, patience=3, verbose=True, min_lr=0.00001)"
      ],
      "execution_count": 0,
      "outputs": []
    },
    {
      "metadata": {
        "id": "Fa_u8aalv6UT",
        "colab_type": "text"
      },
      "cell_type": "markdown",
      "source": [
        "Instiatiate the model and create the necessary resources necessary to train it."
      ]
    },
    {
      "metadata": {
        "id": "JBW0_JFTbcIR",
        "colab_type": "code",
        "outputId": "7e776b94-a83f-430a-8228-0a95be468e5a",
        "colab": {
          "base_uri": "https://localhost:8080/",
          "height": 3264
        }
      },
      "cell_type": "code",
      "source": [
        "# number of epochs to train the model\n",
        "n_epochs = 25\n",
        "\n",
        "# number of epochs without improvement that triggers an early stop in trainning\n",
        "early_stop = 7\n",
        "es_counter = 0\n",
        "\n",
        "\n",
        "for epoch in range(1, n_epochs+1):\n",
        "\n",
        "    # keep track of training and validation loss\n",
        "    train_loss = 0.0\n",
        "    valid_loss = 0.0\n",
        "    accuracy=0.0\n",
        "    \n",
        "    ###################\n",
        "    # train the model #\n",
        "    ###################\n",
        "    model.train()\n",
        "    for batch_number, (data, target) in enumerate(train_loader):\n",
        "        # move tensors to GPU if CUDA is available\n",
        "        # clear the gradients of all optimized variables\n",
        "        optimizer.zero_grad()\n",
        "        # forward pass: compute predicted outputs by passing inputs to the model\n",
        "        output = model(data)\n",
        "        # calculate the batch loss\n",
        "        loss = criterion(output, target)\n",
        "        # backward pass: compute gradient of the loss with respect to model parameters\n",
        "        loss.backward()\n",
        "        # perform a single optimization step (parameter update)\n",
        "        optimizer.step()\n",
        "        # update training loss\n",
        "        train_loss += loss.item()*data.size(0)\n",
        "        #give feedback on current batch of the epoch\n",
        "        if batch_number%50 == 0:\n",
        "            print(\"batch number: {}\".format(batch_number))\n",
        "            \n",
        "    ######################    \n",
        "    # validate the model #\n",
        "    ######################\n",
        "    model.eval()\n",
        "    for data, target in val_loader:\n",
        "        # move tensors to GPU if CUDA is available\n",
        "        # forward pass: compute predicted outputs by passing inputs to the model\n",
        "        output = model(data)\n",
        "        # calculate the batch loss\n",
        "        loss = criterion(output, target)\n",
        "        # update average validation loss \n",
        "        valid_loss += loss.item()*data.size(0)\n",
        "        _,pred=torch.max(output,1)\n",
        "        accuracy += torch.sum(pred==target.data)\n",
        "    \n",
        "    # calculate average losses\n",
        "    train_loss = train_loss/len(train_loader.dataset)\n",
        "    valid_loss = valid_loss/len(val_loader.dataset)\n",
        "    accuracy = accuracy.double()/len(val_loader.dataset)\n",
        "    \n",
        "    # confirm if the validation loss is decreasing in order to reduce lr\n",
        "    scheduler.step(valid_loss)\n",
        "        \n",
        "    # print training/validation statistics \n",
        "    print('Epoch: {} \\tTraining Loss: {:.6f} \\tValidation Loss: {:.6f}\\tAccuracy: {:.6f}'.format(\n",
        "        epoch, train_loss, valid_loss,accuracy))\n",
        "    \n",
        "    # save model if validation loss has decreased, if not increase early stop counter \n",
        "    if valid_loss <= valid_loss_min:\n",
        "        print('Validation loss decreased ({:.6f} --> {:.6f}).  Saving model ...'.format(\n",
        "            valid_loss_min, valid_loss))\n",
        "        save_model(model, epoch, valid_loss)\n",
        "        valid_loss_min = valid_loss\n",
        "        es_counter = 0\n",
        "    else:\n",
        "        es_counter+=1\n",
        "    \n",
        "    #if certain number of epochs have passed without improvement stop the trainning\n",
        "    if es_counter >= early_stop:\n",
        "        print(\"\\n\\nEarly stop, no improvements in {} epochs\".format(early_stop))\n",
        "        break"
      ],
      "execution_count": 0,
      "outputs": [
        {
          "output_type": "stream",
          "text": [
            "/usr/local/lib/python3.6/dist-packages/ipykernel_launcher.py:34: UserWarning: Implicit dimension choice for softmax has been deprecated. Change the call to include dim=X as an argument.\n"
          ],
          "name": "stderr"
        },
        {
          "output_type": "stream",
          "text": [
            "batch number: 0\n",
            "batch number: 50\n",
            "batch number: 100\n",
            "batch number: 150\n",
            "batch number: 200\n",
            "batch number: 250\n",
            "Epoch: 1 \tTraining Loss: 1.498680 \tValidation Loss: 1.489930\tAccuracy: 0.971270\n",
            "batch number: 0\n",
            "batch number: 50\n",
            "batch number: 100\n",
            "batch number: 150\n",
            "batch number: 200\n",
            "batch number: 250\n",
            "Epoch: 2 \tTraining Loss: 1.494231 \tValidation Loss: 1.488496\tAccuracy: 0.972222\n",
            "batch number: 0\n",
            "batch number: 50\n",
            "batch number: 100\n",
            "batch number: 150\n",
            "batch number: 200\n",
            "batch number: 250\n",
            "Epoch: 3 \tTraining Loss: 1.493846 \tValidation Loss: 1.491277\tAccuracy: 0.969841\n",
            "batch number: 0\n",
            "batch number: 50\n",
            "batch number: 100\n",
            "batch number: 150\n",
            "batch number: 200\n",
            "batch number: 250\n",
            "Epoch: 4 \tTraining Loss: 1.494865 \tValidation Loss: 1.486612\tAccuracy: 0.974762\n",
            "Validation loss decreased (1.488192 --> 1.486612).  Saving model ...\n",
            "Model Saved\n",
            "batch number: 0\n",
            "batch number: 50\n",
            "batch number: 100\n",
            "batch number: 150\n",
            "batch number: 200\n",
            "batch number: 250\n",
            "Epoch: 5 \tTraining Loss: 1.491709 \tValidation Loss: 1.489294\tAccuracy: 0.971587\n",
            "batch number: 0\n",
            "batch number: 50\n",
            "batch number: 100\n",
            "batch number: 150\n",
            "batch number: 200\n",
            "batch number: 250\n",
            "Epoch: 6 \tTraining Loss: 1.491965 \tValidation Loss: 1.491081\tAccuracy: 0.970000\n",
            "batch number: 0\n",
            "batch number: 50\n",
            "batch number: 100\n",
            "batch number: 150\n",
            "batch number: 200\n",
            "batch number: 250\n",
            "Epoch: 7 \tTraining Loss: 1.491969 \tValidation Loss: 1.486210\tAccuracy: 0.974762\n",
            "Validation loss decreased (1.486612 --> 1.486210).  Saving model ...\n",
            "Model Saved\n",
            "batch number: 0\n",
            "batch number: 50\n",
            "batch number: 100\n",
            "batch number: 150\n",
            "batch number: 200\n",
            "batch number: 250\n",
            "Epoch: 8 \tTraining Loss: 1.493679 \tValidation Loss: 1.485051\tAccuracy: 0.976349\n",
            "Validation loss decreased (1.486210 --> 1.485051).  Saving model ...\n",
            "Model Saved\n",
            "batch number: 0\n",
            "batch number: 50\n",
            "batch number: 100\n",
            "batch number: 150\n",
            "batch number: 200\n",
            "batch number: 250\n",
            "Epoch: 9 \tTraining Loss: 1.492405 \tValidation Loss: 1.486664\tAccuracy: 0.974762\n",
            "batch number: 0\n",
            "batch number: 50\n",
            "batch number: 100\n",
            "batch number: 150\n",
            "batch number: 200\n",
            "batch number: 250\n",
            "Epoch: 10 \tTraining Loss: 1.493323 \tValidation Loss: 1.486194\tAccuracy: 0.974921\n",
            "batch number: 0\n",
            "batch number: 50\n",
            "batch number: 100\n",
            "batch number: 150\n",
            "batch number: 200\n",
            "batch number: 250\n",
            "Epoch: 11 \tTraining Loss: 1.492160 \tValidation Loss: 1.488719\tAccuracy: 0.972063\n",
            "batch number: 0\n",
            "batch number: 50\n",
            "batch number: 100\n",
            "batch number: 150\n",
            "batch number: 200\n",
            "batch number: 250\n",
            "Epoch    11: reducing learning rate of group 0 to 5.0000e-04.\n",
            "Epoch: 12 \tTraining Loss: 1.493111 \tValidation Loss: 1.489925\tAccuracy: 0.970952\n",
            "batch number: 0\n",
            "batch number: 50\n",
            "batch number: 100\n",
            "batch number: 150\n",
            "batch number: 200\n",
            "batch number: 250\n",
            "Epoch: 13 \tTraining Loss: 1.486506 \tValidation Loss: 1.485410\tAccuracy: 0.975873\n",
            "batch number: 0\n",
            "batch number: 50\n",
            "batch number: 100\n",
            "batch number: 150\n",
            "batch number: 200\n",
            "batch number: 250\n",
            "Epoch: 14 \tTraining Loss: 1.484583 \tValidation Loss: 1.483178\tAccuracy: 0.978095\n",
            "Validation loss decreased (1.485051 --> 1.483178).  Saving model ...\n",
            "Model Saved\n",
            "batch number: 0\n",
            "batch number: 50\n",
            "batch number: 100\n",
            "batch number: 150\n",
            "batch number: 200\n",
            "batch number: 250\n",
            "Epoch: 15 \tTraining Loss: 1.485449 \tValidation Loss: 1.484837\tAccuracy: 0.976032\n",
            "batch number: 0\n",
            "batch number: 50\n",
            "batch number: 100\n",
            "batch number: 150\n",
            "batch number: 200\n",
            "batch number: 250\n",
            "Epoch: 16 \tTraining Loss: 1.484370 \tValidation Loss: 1.481234\tAccuracy: 0.980000\n",
            "Validation loss decreased (1.483178 --> 1.481234).  Saving model ...\n",
            "Model Saved\n",
            "batch number: 0\n",
            "batch number: 50\n",
            "batch number: 100\n",
            "batch number: 150\n",
            "batch number: 200\n",
            "batch number: 250\n",
            "Epoch: 17 \tTraining Loss: 1.484115 \tValidation Loss: 1.485395\tAccuracy: 0.975714\n",
            "batch number: 0\n",
            "batch number: 50\n",
            "batch number: 100\n",
            "batch number: 150\n",
            "batch number: 200\n",
            "batch number: 250\n",
            "Epoch: 18 \tTraining Loss: 1.483609 \tValidation Loss: 1.484998\tAccuracy: 0.975714\n",
            "batch number: 0\n",
            "batch number: 50\n",
            "batch number: 100\n",
            "batch number: 150\n",
            "batch number: 200\n",
            "batch number: 250\n",
            "Epoch: 19 \tTraining Loss: 1.483822 \tValidation Loss: 1.480628\tAccuracy: 0.980635\n",
            "Validation loss decreased (1.481234 --> 1.480628).  Saving model ...\n",
            "Model Saved\n",
            "batch number: 0\n",
            "batch number: 50\n",
            "batch number: 100\n",
            "batch number: 150\n",
            "batch number: 200\n",
            "batch number: 250\n",
            "Epoch: 20 \tTraining Loss: 1.481112 \tValidation Loss: 1.480914\tAccuracy: 0.980317\n",
            "batch number: 0\n",
            "batch number: 50\n",
            "batch number: 100\n",
            "batch number: 150\n",
            "batch number: 200\n",
            "batch number: 250\n",
            "Epoch: 21 \tTraining Loss: 1.484126 \tValidation Loss: 1.483787\tAccuracy: 0.977302\n",
            "batch number: 0\n",
            "batch number: 50\n",
            "batch number: 100\n",
            "batch number: 150\n",
            "batch number: 200\n",
            "batch number: 250\n",
            "Epoch: 22 \tTraining Loss: 1.481130 \tValidation Loss: 1.480446\tAccuracy: 0.980476\n",
            "Validation loss decreased (1.480628 --> 1.480446).  Saving model ...\n",
            "Model Saved\n",
            "batch number: 0\n",
            "batch number: 50\n",
            "batch number: 100\n",
            "batch number: 150\n",
            "batch number: 200\n",
            "batch number: 250\n",
            "Epoch: 23 \tTraining Loss: 1.481238 \tValidation Loss: 1.480970\tAccuracy: 0.980159\n",
            "batch number: 0\n",
            "batch number: 50\n",
            "batch number: 100\n",
            "batch number: 150\n",
            "batch number: 200\n",
            "batch number: 250\n",
            "Epoch: 24 \tTraining Loss: 1.482320 \tValidation Loss: 1.480653\tAccuracy: 0.980476\n",
            "batch number: 0\n",
            "batch number: 50\n",
            "batch number: 100\n",
            "batch number: 150\n",
            "batch number: 200\n",
            "batch number: 250\n",
            "Epoch: 25 \tTraining Loss: 1.481905 \tValidation Loss: 1.480539\tAccuracy: 0.980635\n"
          ],
          "name": "stdout"
        }
      ]
    },
    {
      "metadata": {
        "id": "lwsRZJP5U0KF",
        "colab_type": "code",
        "colab": {}
      },
      "cell_type": "code",
      "source": [
        "test_dataset = CSVDataset(test_data, 28, 28, 1, test=True)\n",
        "\n",
        "test_loader = torch.utils.data.DataLoader(test_dataset, batch_size = 1, shuffle = False)"
      ],
      "execution_count": 0,
      "outputs": []
    },
    {
      "metadata": {
        "id": "fPh132C5ENUq",
        "colab_type": "code",
        "colab": {}
      },
      "cell_type": "code",
      "source": [
        "predictions = pd.DataFrame(columns = ['ImageId', 'Label'])"
      ],
      "execution_count": 0,
      "outputs": []
    },
    {
      "metadata": {
        "id": "vrnC3D-5Vxs2",
        "colab_type": "code",
        "colab": {}
      },
      "cell_type": "code",
      "source": [
        "checkpoint = torch.load(drive_full_path + '/checkpoint.pt')\n",
        "\n",
        "model, _, _ = load_model(checkpoint)"
      ],
      "execution_count": 0,
      "outputs": []
    },
    {
      "metadata": {
        "id": "s_tlJlWpA9g4",
        "colab_type": "code",
        "outputId": "79991607-fd82-486c-bf4f-2c8abe7dfaf7",
        "colab": {
          "base_uri": "https://localhost:8080/",
          "height": 34
        }
      },
      "cell_type": "code",
      "source": [
        "model.eval()\n",
        "image_id = 0\n",
        "with torch.no_grad():\n",
        "  for data in test_loader:\n",
        "    image_id+=1\n",
        "    output = model(data)\n",
        "    _,pred=torch.max(output,1)\n",
        "    \n",
        "    #row = {'ImageId' : image_id, 'Label' : pred}\n",
        "    serie = pd.Series([image_id, int(pred)],index=predictions.columns)\n",
        "    predictions = predictions.append(serie, ignore_index=True)"
      ],
      "execution_count": 0,
      "outputs": [
        {
          "output_type": "stream",
          "text": [
            "/usr/local/lib/python3.6/dist-packages/ipykernel_launcher.py:34: UserWarning: Implicit dimension choice for softmax has been deprecated. Change the call to include dim=X as an argument.\n"
          ],
          "name": "stderr"
        }
      ]
    },
    {
      "metadata": {
        "id": "XGkojRE0NBuk",
        "colab_type": "code",
        "colab": {}
      },
      "cell_type": "code",
      "source": [
        "predictions.to_csv('submission.csv', index=False)\n",
        "files.download('submission.csv')"
      ],
      "execution_count": 0,
      "outputs": []
    }
  ]
}